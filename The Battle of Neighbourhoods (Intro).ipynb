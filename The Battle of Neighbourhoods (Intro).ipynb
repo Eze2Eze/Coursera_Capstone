{
    "cells": [
        {
            "cell_type": "markdown",
            "metadata": {
                "collapsed": true
            },
            "source": "## IBM Data Science Professional Certificate Specialization:\n\n### Capstone Project: How Secure is my Neighborhood in Toronto\n\n<b>1. INTRODUCTION </b><br>\n<div> Security has long been an issue and major concern for governments, businesses and individuals alike, in fact everybody and including animals want to be safe, feel safe and stay safe. Unfortunately Government has limited resources to tackle most of its security challenges, also individuals intending to start a business venture or take up residence by buying buildings or renting apartments in certain Neighborhoods incur serious losses just because they had little or no knowledge about how the state of security in the neighborhood would impact their businesses and everyday lives. As a result, questions like *\u201cwhat is the government doing about security in my neighborhood?\u201d, \u201cis it safe to start a business in this neighborhood?\u201d, \u201cHow am I sure that the neighborhood I am running to does not have the same security challenges as the one I am running from\u201d etc.*</div>\n\nLet\u2019s assume that government had a way of knowing all of the \u201chot spots\u201d (areas with high security risk) at a glance, won\u2019t it help them to channel the limited resources more fairly and accurately, and what about individuals and businesses? Won\u2019t knowledge about how secure a neighborhood is enable them to plan and allocate adequate resources to secure and protect both their lives and properties rather than being taken unawares? I think it would help, it might even go a long way in enabling Private Security Agencies determine which neighborhoods require their services the most in terms of providing man power, training, and other security gadgets.\n\nThis project therefore seeks to provide such information for the various stakeholders with a focus on Neighborhoods in Toronto, Canada. \n"
        },
        {
            "cell_type": "markdown",
            "metadata": {},
            "source": "\n<b>2. ABOUT THE DATASET</b><br>\nThe dataset we will be exploring contains records of reported crimes in Toronto\u2019s Neighborhoods from 2014 to 2019. The dataset was obtained from the Toronto Police Service Public Safety Data Portal <a href=\"http://data.torontopolice.on.ca/datasets/mci-2014-to-2019?page=10\" target=\"_blank\">(link to Dataset)</a> and is used in accordance with the terms and conditions provided here <a href=\"https://www.ontario.ca/page/open-government-licence-ontario\" target=\"_blank\">(Terms and Conditions)</a>. As at the time of use, the dataset contained about 206,435 records. Some of the attributes of this dataset include:<br>\n\n    -Neighborhood, - offences, - premisetype, - occurrenceyear, - MCI, - Lat, -Long<br>\n    -occurrencedate  - occurencedayoftheweek  - Division  - Hood_ID etc.<br>\n    \nAnalysis will be performed on the dataset to determine how safe a particular neighborhood is by deriving an *average safety-index score* for each Neighborhood on a scale of **0 to 1**. 1 being the worst case scenario *i.e. Very Unsafe Neighborhood* and 0 being the best *i.e. Very Safe Neighborhood.*\n"
        },
        {
            "cell_type": "code",
            "execution_count": null,
            "metadata": {},
            "outputs": [],
            "source": ""
        }
    ],
    "metadata": {
        "kernelspec": {
            "display_name": "Python 3.6",
            "language": "python",
            "name": "python3"
        },
        "language_info": {
            "codemirror_mode": {
                "name": "ipython",
                "version": 3
            },
            "file_extension": ".py",
            "mimetype": "text/x-python",
            "name": "python",
            "nbconvert_exporter": "python",
            "pygments_lexer": "ipython3",
            "version": "3.6.9"
        }
    },
    "nbformat": 4,
    "nbformat_minor": 1
}